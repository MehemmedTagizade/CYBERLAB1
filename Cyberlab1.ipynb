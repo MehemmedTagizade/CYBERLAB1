{
  "metadata": {
    "kernelspec": {
      "name": "python",
      "display_name": "Python (Pyodide)",
      "language": "python"
    },
    "language_info": {
      "codemirror_mode": {
        "name": "python",
        "version": 3
      },
      "file_extension": ".py",
      "mimetype": "text/x-python",
      "name": "python",
      "nbconvert_exporter": "python",
      "pygments_lexer": "ipython3",
      "version": "3.8"
    }
  },
  "nbformat_minor": 4,
  "nbformat": 4,
  "cells": [
    {
      "cell_type": "code",
      "source": "# Import necessary libraries\nimport pandas as pd\nimport numpy as np",
      "metadata": {
        "trusted": true
      },
      "outputs": [
        {
          "name": "stderr",
          "text": "<ipython-input-5-bf8cf8bec68e>:2: DeprecationWarning: \nPyarrow will become a required dependency of pandas in the next major release of pandas (pandas 3.0),\n(to allow more performant data types, such as the Arrow string type, and better interoperability with other libraries)\nbut was not found to be installed on your system.\nIf this would cause problems for you,\nplease provide us feedback at https://github.com/pandas-dev/pandas/issues/54466\n        \n  import pandas as pd\n",
          "output_type": "stream"
        }
      ],
      "execution_count": 5
    },
    {
      "cell_type": "code",
      "source": "# Load the dataset\nfile_path = 'Friday-WorkingHours-Afternoon-DDos.pcap_ISCX.csv'\ndata = pd.read_csv(file_path)",
      "metadata": {
        "trusted": true
      },
      "outputs": [],
      "execution_count": 20
    },
    {
      "cell_type": "code",
      "source": "# Clean column names by removing extra spaces\ndata.columns = data.columns.str.replace(' ', '')\n\n\nprint(data.columns)",
      "metadata": {
        "trusted": true
      },
      "outputs": [
        {
          "name": "stdout",
          "text": "Index(['DestinationPort', 'FlowDuration', 'TotalFwdPackets',\n       'TotalBackwardPackets', 'TotalLengthofFwdPackets',\n       'TotalLengthofBwdPackets', 'FwdPacketLengthMax', 'FwdPacketLengthMin',\n       'FwdPacketLengthMean', 'FwdPacketLengthStd', 'BwdPacketLengthMax',\n       'BwdPacketLengthMin', 'BwdPacketLengthMean', 'BwdPacketLengthStd',\n       'FlowBytes/s', 'FlowPackets/s', 'FlowIATMean', 'FlowIATStd',\n       'FlowIATMax', 'FlowIATMin', 'FwdIATTotal', 'FwdIATMean', 'FwdIATStd',\n       'FwdIATMax', 'FwdIATMin', 'BwdIATTotal', 'BwdIATMean', 'BwdIATStd',\n       'BwdIATMax', 'BwdIATMin', 'FwdPSHFlags', 'BwdPSHFlags', 'FwdURGFlags',\n       'BwdURGFlags', 'FwdHeaderLength', 'BwdHeaderLength', 'FwdPackets/s',\n       'BwdPackets/s', 'MinPacketLength', 'MaxPacketLength',\n       'PacketLengthMean', 'PacketLengthStd', 'PacketLengthVariance',\n       'FINFlagCount', 'SYNFlagCount', 'RSTFlagCount', 'PSHFlagCount',\n       'ACKFlagCount', 'URGFlagCount', 'CWEFlagCount', 'ECEFlagCount',\n       'Down/UpRatio', 'AveragePacketSize', 'AvgFwdSegmentSize',\n       'AvgBwdSegmentSize', 'FwdHeaderLength.1', 'FwdAvgBytes/Bulk',\n       'FwdAvgPackets/Bulk', 'FwdAvgBulkRate', 'BwdAvgBytes/Bulk',\n       'BwdAvgPackets/Bulk', 'BwdAvgBulkRate', 'SubflowFwdPackets',\n       'SubflowFwdBytes', 'SubflowBwdPackets', 'SubflowBwdBytes',\n       'Init_Win_bytes_forward', 'Init_Win_bytes_backward', 'act_data_pkt_fwd',\n       'min_seg_size_forward', 'ActiveMean', 'ActiveStd', 'ActiveMax',\n       'ActiveMin', 'IdleMean', 'IdleStd', 'IdleMax', 'IdleMin', 'Label'],\n      dtype='object')\n",
          "output_type": "stream"
        }
      ],
      "execution_count": 34
    },
    {
      "cell_type": "code",
      "source": "data.replace([np.inf, -np.inf], np.nan, inplace=True)\ndata.dropna(inplace=True)\n\n# Display the first 10 rows of the dataset\nprint(\"First 10 rows of the dataset:\")\nprint(data.head(10))\n",
      "metadata": {
        "trusted": true
      },
      "outputs": [
        {
          "name": "stdout",
          "text": "First 10 rows of the dataset:\n   DestinationPort  FlowDuration  TotalFwdPackets  TotalBackwardPackets  \\\n0            54865             3                2                     0   \n1            55054           109                1                     1   \n2            55055            52                1                     1   \n3            46236            34                1                     1   \n4            54863             3                2                     0   \n5            54871          1022                2                     0   \n6            54925             4                2                     0   \n7            54925            42                1                     1   \n8             9282             4                2                     0   \n9            55153             4                2                     0   \n\n   TotalLengthofFwdPackets  TotalLengthofBwdPackets  FwdPacketLengthMax  \\\n0                       12                        0                   6   \n1                        6                        6                   6   \n2                        6                        6                   6   \n3                        6                        6                   6   \n4                       12                        0                   6   \n5                       12                        0                   6   \n6                       12                        0                   6   \n7                        6                        6                   6   \n8                       12                        0                   6   \n9                       37                        0                  31   \n\n   FwdPacketLengthMin  FwdPacketLengthMean  FwdPacketLengthStd  ...  \\\n0                   6                  6.0             0.00000  ...   \n1                   6                  6.0             0.00000  ...   \n2                   6                  6.0             0.00000  ...   \n3                   6                  6.0             0.00000  ...   \n4                   6                  6.0             0.00000  ...   \n5                   6                  6.0             0.00000  ...   \n6                   6                  6.0             0.00000  ...   \n7                   6                  6.0             0.00000  ...   \n8                   6                  6.0             0.00000  ...   \n9                   6                 18.5            17.67767  ...   \n\n   min_seg_size_forward  ActiveMean  ActiveStd  ActiveMax  ActiveMin  \\\n0                    20         0.0        0.0          0          0   \n1                    20         0.0        0.0          0          0   \n2                    20         0.0        0.0          0          0   \n3                    20         0.0        0.0          0          0   \n4                    20         0.0        0.0          0          0   \n5                    20         0.0        0.0          0          0   \n6                    20         0.0        0.0          0          0   \n7                    20         0.0        0.0          0          0   \n8                    20         0.0        0.0          0          0   \n9                    20         0.0        0.0          0          0   \n\n   IdleMean  IdleStd  IdleMax  IdleMin   Label  \n0       0.0      0.0        0        0  BENIGN  \n1       0.0      0.0        0        0  BENIGN  \n2       0.0      0.0        0        0  BENIGN  \n3       0.0      0.0        0        0  BENIGN  \n4       0.0      0.0        0        0  BENIGN  \n5       0.0      0.0        0        0  BENIGN  \n6       0.0      0.0        0        0  BENIGN  \n7       0.0      0.0        0        0  BENIGN  \n8       0.0      0.0        0        0  BENIGN  \n9       0.0      0.0        0        0  BENIGN  \n\n[10 rows x 79 columns]\n",
          "output_type": "stream"
        }
      ],
      "execution_count": 22
    },
    {
      "cell_type": "markdown",
      "source": "Preprocessing steps",
      "metadata": {}
    },
    {
      "cell_type": "markdown",
      "source": "1. Handle Missing and Infinite Values\n2. Action: Remove rows with missing values or fill them with appropriate statistics (mean, median).\n",
      "metadata": {}
    },
    {
      "cell_type": "code",
      "source": "data.replace([np.inf, -np.inf], np.nan, inplace=True)\ndata.dropna(inplace=True)\n",
      "metadata": {
        "trusted": true
      },
      "outputs": [],
      "execution_count": 23
    },
    {
      "cell_type": "code",
      "source": "print(data.isnull().sum())\n",
      "metadata": {
        "trusted": true
      },
      "outputs": [
        {
          "name": "stdout",
          "text": "DestinationPort            0\nFlowDuration               0\nTotalFwdPackets            0\nTotalBackwardPackets       0\nTotalLengthofFwdPackets    0\n                          ..\nIdleMean                   0\nIdleStd                    0\nIdleMax                    0\nIdleMin                    0\nLabel                      0\nLength: 79, dtype: int64\n",
          "output_type": "stream"
        }
      ],
      "execution_count": 24
    },
    {
      "cell_type": "markdown",
      "source": "2.Encode Labels\nAction: Convert Label to numeric format, e.g., BENIGN = 0 and ATTACK = 1.",
      "metadata": {}
    },
    {
      "cell_type": "code",
      "source": "data['Label'] = data['Label'].apply(lambda x: 0 if x == 'BENIGN' else 1)\n",
      "metadata": {
        "trusted": true
      },
      "outputs": [],
      "execution_count": 25
    },
    {
      "cell_type": "code",
      "source": "print(data['Label'].value_counts())\n",
      "metadata": {
        "trusted": true
      },
      "outputs": [
        {
          "name": "stdout",
          "text": "Label\n1    128025\n0     97686\nName: count, dtype: int64\n",
          "output_type": "stream"
        }
      ],
      "execution_count": 26
    },
    {
      "cell_type": "markdown",
      "source": "3. Drop Irrelevant or Redundant Columns\nAction: Remove columns that don’t contribute to the analysis (e.g., IDs or IP addresses).",
      "metadata": {}
    },
    {
      "cell_type": "code",
      "source": "irrelevant_columns = ['FlowID', 'SourceIP', 'DestinationIP']\ndata = data.drop(columns=irrelevant_columns, errors='ignore')\n",
      "metadata": {
        "trusted": true
      },
      "outputs": [],
      "execution_count": 27
    },
    {
      "cell_type": "code",
      "source": "print(data.columns)\n",
      "metadata": {
        "trusted": true
      },
      "outputs": [
        {
          "name": "stdout",
          "text": "Index(['DestinationPort', 'FlowDuration', 'TotalFwdPackets',\n       'TotalBackwardPackets', 'TotalLengthofFwdPackets',\n       'TotalLengthofBwdPackets', 'FwdPacketLengthMax', 'FwdPacketLengthMin',\n       'FwdPacketLengthMean', 'FwdPacketLengthStd', 'BwdPacketLengthMax',\n       'BwdPacketLengthMin', 'BwdPacketLengthMean', 'BwdPacketLengthStd',\n       'FlowBytes/s', 'FlowPackets/s', 'FlowIATMean', 'FlowIATStd',\n       'FlowIATMax', 'FlowIATMin', 'FwdIATTotal', 'FwdIATMean', 'FwdIATStd',\n       'FwdIATMax', 'FwdIATMin', 'BwdIATTotal', 'BwdIATMean', 'BwdIATStd',\n       'BwdIATMax', 'BwdIATMin', 'FwdPSHFlags', 'BwdPSHFlags', 'FwdURGFlags',\n       'BwdURGFlags', 'FwdHeaderLength', 'BwdHeaderLength', 'FwdPackets/s',\n       'BwdPackets/s', 'MinPacketLength', 'MaxPacketLength',\n       'PacketLengthMean', 'PacketLengthStd', 'PacketLengthVariance',\n       'FINFlagCount', 'SYNFlagCount', 'RSTFlagCount', 'PSHFlagCount',\n       'ACKFlagCount', 'URGFlagCount', 'CWEFlagCount', 'ECEFlagCount',\n       'Down/UpRatio', 'AveragePacketSize', 'AvgFwdSegmentSize',\n       'AvgBwdSegmentSize', 'FwdHeaderLength.1', 'FwdAvgBytes/Bulk',\n       'FwdAvgPackets/Bulk', 'FwdAvgBulkRate', 'BwdAvgBytes/Bulk',\n       'BwdAvgPackets/Bulk', 'BwdAvgBulkRate', 'SubflowFwdPackets',\n       'SubflowFwdBytes', 'SubflowBwdPackets', 'SubflowBwdBytes',\n       'Init_Win_bytes_forward', 'Init_Win_bytes_backward', 'act_data_pkt_fwd',\n       'min_seg_size_forward', 'ActiveMean', 'ActiveStd', 'ActiveMax',\n       'ActiveMin', 'IdleMean', 'IdleStd', 'IdleMax', 'IdleMin', 'Label'],\n      dtype='object')\n",
          "output_type": "stream"
        }
      ],
      "execution_count": 28
    },
    {
      "cell_type": "markdown",
      "source": "4. Handle Correlated Features (Optional)\nWhy: Highly correlated features add redundancy and can reduce model performance.\nHow: Calculate correlations and remove one feature from pairs with high correlation (>0.9).",
      "metadata": {}
    },
    {
      "cell_type": "code",
      "source": "correlation_matrix = data.corr()\nhigh_corr = correlation_matrix[correlation_matrix > 0.9]\nprint(high_corr)\n",
      "metadata": {
        "trusted": true
      },
      "outputs": [
        {
          "name": "stdout",
          "text": "                         DestinationPort  FlowDuration  TotalFwdPackets  \\\nDestinationPort                      1.0           NaN              NaN   \nFlowDuration                         NaN      1.000000              NaN   \nTotalFwdPackets                      NaN           NaN         1.000000   \nTotalBackwardPackets                 NaN           NaN         0.956714   \nTotalLengthofFwdPackets              NaN           NaN              NaN   \n...                                  ...           ...              ...   \nIdleMean                             NaN           NaN              NaN   \nIdleStd                              NaN           NaN              NaN   \nIdleMax                              NaN      0.919196              NaN   \nIdleMin                              NaN           NaN              NaN   \nLabel                                NaN           NaN              NaN   \n\n                         TotalBackwardPackets  TotalLengthofFwdPackets  \\\nDestinationPort                           NaN                      NaN   \nFlowDuration                              NaN                      NaN   \nTotalFwdPackets                      0.956714                      NaN   \nTotalBackwardPackets                 1.000000                      NaN   \nTotalLengthofFwdPackets                   NaN                      1.0   \n...                                       ...                      ...   \nIdleMean                                  NaN                      NaN   \nIdleStd                                   NaN                      NaN   \nIdleMax                                   NaN                      NaN   \nIdleMin                                   NaN                      NaN   \nLabel                                     NaN                      NaN   \n\n                         TotalLengthofBwdPackets  FwdPacketLengthMax  \\\nDestinationPort                              NaN                 NaN   \nFlowDuration                                 NaN                 NaN   \nTotalFwdPackets                         0.938470                 NaN   \nTotalBackwardPackets                    0.970422                 NaN   \nTotalLengthofFwdPackets                      NaN                 NaN   \n...                                          ...                 ...   \nIdleMean                                     NaN                 NaN   \nIdleStd                                      NaN                 NaN   \nIdleMax                                      NaN                 NaN   \nIdleMin                                      NaN                 NaN   \nLabel                                        NaN                 NaN   \n\n                         FwdPacketLengthMin  FwdPacketLengthMean  \\\nDestinationPort                         NaN                  NaN   \nFlowDuration                            NaN                  NaN   \nTotalFwdPackets                         NaN                  NaN   \nTotalBackwardPackets                    NaN                  NaN   \nTotalLengthofFwdPackets                 NaN                  NaN   \n...                                     ...                  ...   \nIdleMean                                NaN                  NaN   \nIdleStd                                 NaN                  NaN   \nIdleMax                                 NaN                  NaN   \nIdleMin                                 NaN                  NaN   \nLabel                                   NaN                  NaN   \n\n                         FwdPacketLengthStd  ...  min_seg_size_forward  \\\nDestinationPort                         NaN  ...                   NaN   \nFlowDuration                            NaN  ...                   NaN   \nTotalFwdPackets                         NaN  ...                   NaN   \nTotalBackwardPackets                    NaN  ...                   NaN   \nTotalLengthofFwdPackets                 NaN  ...                   NaN   \n...                                     ...  ...                   ...   \nIdleMean                                NaN  ...                   NaN   \nIdleStd                                 NaN  ...                   NaN   \nIdleMax                                 NaN  ...                   NaN   \nIdleMin                                 NaN  ...                   NaN   \nLabel                                   NaN  ...                   NaN   \n\n                         ActiveMean  ActiveStd  ActiveMax  ActiveMin  \\\nDestinationPort                 NaN        NaN        NaN        NaN   \nFlowDuration                    NaN        NaN        NaN        NaN   \nTotalFwdPackets                 NaN        NaN        NaN        NaN   \nTotalBackwardPackets            NaN        NaN        NaN        NaN   \nTotalLengthofFwdPackets         NaN        NaN        NaN        NaN   \n...                             ...        ...        ...        ...   \nIdleMean                        NaN        NaN        NaN        NaN   \nIdleStd                         NaN        NaN        NaN        NaN   \nIdleMax                         NaN        NaN        NaN        NaN   \nIdleMin                         NaN        NaN        NaN        NaN   \nLabel                           NaN        NaN        NaN        NaN   \n\n                         IdleMean  IdleStd   IdleMax  IdleMin  Label  \nDestinationPort               NaN      NaN       NaN      NaN    NaN  \nFlowDuration                  NaN      NaN  0.919196      NaN    NaN  \nTotalFwdPackets               NaN      NaN       NaN      NaN    NaN  \nTotalBackwardPackets          NaN      NaN       NaN      NaN    NaN  \nTotalLengthofFwdPackets       NaN      NaN       NaN      NaN    NaN  \n...                           ...      ...       ...      ...    ...  \nIdleMean                 1.000000      NaN  0.952583  0.91082    NaN  \nIdleStd                       NaN      1.0       NaN      NaN    NaN  \nIdleMax                  0.952583      NaN  1.000000      NaN    NaN  \nIdleMin                  0.910820      NaN       NaN  1.00000    NaN  \nLabel                         NaN      NaN       NaN      NaN    1.0  \n\n[79 rows x 79 columns]\n",
          "output_type": "stream"
        }
      ],
      "execution_count": 29
    },
    {
      "cell_type": "markdown",
      "source": "5. Scale Features\n Why: Ensure all numerical features have the same scale for models sensitive to feature magnitudes (e.g., SVM, KNN).",
      "metadata": {}
    },
    {
      "cell_type": "code",
      "source": "from sklearn.preprocessing import StandardScaler\nnumeric_features = data.select_dtypes(include=[float, int])\nscaler = StandardScaler()\nscaled_features = scaler.fit_transform(numeric_features)\ndata[numeric_features.columns] = scaled_features\n",
      "metadata": {
        "trusted": true
      },
      "outputs": [],
      "execution_count": 30
    },
    {
      "cell_type": "code",
      "source": "print(data.describe())\n",
      "metadata": {
        "trusted": true
      },
      "outputs": [
        {
          "name": "stdout",
          "text": "       DestinationPort  FlowDuration  TotalFwdPackets  TotalBackwardPackets  \\\ncount     2.257110e+05  2.257110e+05     2.257110e+05         225711.000000   \nmean      5.036832e-18  2.014733e-17    -1.259208e-17              0.000000   \nstd       1.000002e+00  1.000002e+00     1.000002e+00              1.000002   \nmin      -4.494010e-01 -5.152595e-01    -2.512579e-01             -0.210206   \n25%      -4.453507e-01 -5.129998e-01    -1.864236e-01             -0.164243   \n50%      -4.453507e-01 -4.691654e-01    -1.215894e-01             -0.026356   \n75%      -4.453507e-01 -2.359142e-01     8.079037e-03              0.019607   \nmax       2.868343e+00  3.291115e+00     1.249436e+02            135.011381   \n\n       TotalLengthofFwdPackets  TotalLengthofBwdPackets  FwdPacketLengthMax  \\\ncount             2.257110e+05             2.257110e+05        2.257110e+05   \nmean             -2.115469e-17             7.681169e-18       -1.208840e-17   \nstd               1.000002e+00             1.000002e+00        1.000002e+00   \nmin              -2.891424e-01            -1.519938e-01       -2.889175e-01   \n25%              -2.811414e-01            -1.519938e-01       -2.856990e-01   \n50%              -2.799105e-01            -1.478124e-01       -2.781893e-01   \n75%              -2.694478e-01             1.437906e-01       -2.706796e-01   \nmax               5.602881e+01             1.317245e+02        5.976324e+00   \n\n       FwdPacketLengthMin  FwdPacketLengthMean  FwdPacketLengthStd  ...  \\\ncount        2.257110e+05         2.257110e+05        2.257110e+05  ...   \nmean        -1.385129e-17        -1.480829e-16       -2.065101e-17  ...   \nstd          1.000002e+00         1.000002e+00        1.000002e+00  ...   \nmin         -1.707268e-01        -3.264846e-01       -2.695279e-01  ...   \n25%         -1.707268e-01        -3.146016e-01       -2.695279e-01  ...   \n50%         -1.707268e-01        -3.093203e-01       -2.628794e-01  ...   \n75%         -1.339927e-01        -2.631089e-01       -2.566581e-01  ...   \nmax          8.841380e+00         7.332062e+00        8.122870e+00  ...   \n\n       min_seg_size_forward    ActiveMean     ActiveStd     ActiveMax  \\\ncount          2.257110e+05  2.257110e+05  2.257110e+05  2.257110e+05   \nmean           2.820626e-17 -7.404143e-17  1.334760e-17  1.259208e-18   \nstd            1.000002e+00  1.000002e+00  1.000002e+00  1.000002e+00   \nmin           -5.156315e+00 -2.316523e-01 -6.151680e-02 -2.311639e-01   \n25%           -3.557994e-01 -2.316523e-01 -6.151680e-02 -2.311639e-01   \n50%           -3.557994e-01 -2.316523e-01 -6.151680e-02 -2.311639e-01   \n75%           -3.557994e-01 -2.292976e-01 -6.151680e-02 -2.290768e-01   \nmax            7.325026e+00  1.250847e+02  1.877752e+02  1.108433e+02   \n\n          ActiveMin      IdleMean       IdleStd       IdleMax       IdleMin  \\\ncount  2.257110e+05  2.257110e+05  2.257110e+05  2.257110e+05  2.257110e+05   \nmean   2.518416e-18  2.014733e-17  3.827992e-17  4.331675e-17  2.316943e-17   \nstd    1.000002e+00  1.000002e+00  1.000002e+00  1.000002e+00  1.000002e+00   \nmin   -2.264995e-01 -4.723884e-01 -2.831602e-01 -4.784081e-01 -3.911053e-01   \n25%   -2.264995e-01 -4.723884e-01 -2.831602e-01 -4.784081e-01 -3.911053e-01   \n50%   -2.264995e-01 -4.723884e-01 -2.831602e-01 -4.784081e-01 -3.911053e-01   \n75%   -2.241242e-01 -9.528037e-02 -2.831602e-01 -1.718106e-01 -1.677355e-02   \nmax    1.272734e+02  5.018532e+00  4.835298e+00  3.978786e+00  5.659625e+00   \n\n              Label  \ncount  2.257110e+05  \nmean   1.652081e-16  \nstd    1.000002e+00  \nmin   -1.144804e+00  \n25%   -1.144804e+00  \n50%    8.735118e-01  \n75%    8.735118e-01  \nmax    8.735118e-01  \n\n[8 rows x 79 columns]\n",
          "output_type": "stream"
        }
      ],
      "execution_count": 31
    },
    {
      "cell_type": "markdown",
      "source": " 6.Train-Test Split--?10% 90%-improor.? optmi.?",
      "metadata": {}
    },
    {
      "cell_type": "code",
      "source": "from sklearn.model_selection import train_test_split\nX = data.drop('Label', axis=1)\ny = data['Label']\nX_train, X_test, y_train, y_test = train_test_split(X, y, test_size=0.2, random_state=42)\n",
      "metadata": {
        "trusted": true
      },
      "outputs": [],
      "execution_count": 32
    },
    {
      "cell_type": "code",
      "source": "print(f\"Training set size: {len(X_train)}, Test set size: {len(X_test)}\")\n",
      "metadata": {
        "trusted": true
      },
      "outputs": [
        {
          "name": "stdout",
          "text": "Training set size: 180568, Test set size: 45143\n",
          "output_type": "stream"
        }
      ],
      "execution_count": 33
    },
    {
      "cell_type": "code",
      "source": "data.info()",
      "metadata": {
        "trusted": true
      },
      "outputs": [
        {
          "name": "stdout",
          "text": "<class 'pandas.core.frame.DataFrame'>\nIndex: 225711 entries, 0 to 225744\nData columns (total 79 columns):\n #   Column                   Non-Null Count   Dtype  \n---  ------                   --------------   -----  \n 0   DestinationPort          225711 non-null  float64\n 1   FlowDuration             225711 non-null  float64\n 2   TotalFwdPackets          225711 non-null  float64\n 3   TotalBackwardPackets     225711 non-null  float64\n 4   TotalLengthofFwdPackets  225711 non-null  float64\n 5   TotalLengthofBwdPackets  225711 non-null  float64\n 6   FwdPacketLengthMax       225711 non-null  float64\n 7   FwdPacketLengthMin       225711 non-null  float64\n 8   FwdPacketLengthMean      225711 non-null  float64\n 9   FwdPacketLengthStd       225711 non-null  float64\n 10  BwdPacketLengthMax       225711 non-null  float64\n 11  BwdPacketLengthMin       225711 non-null  float64\n 12  BwdPacketLengthMean      225711 non-null  float64\n 13  BwdPacketLengthStd       225711 non-null  float64\n 14  FlowBytes/s              225711 non-null  float64\n 15  FlowPackets/s            225711 non-null  float64\n 16  FlowIATMean              225711 non-null  float64\n 17  FlowIATStd               225711 non-null  float64\n 18  FlowIATMax               225711 non-null  float64\n 19  FlowIATMin               225711 non-null  float64\n 20  FwdIATTotal              225711 non-null  float64\n 21  FwdIATMean               225711 non-null  float64\n 22  FwdIATStd                225711 non-null  float64\n 23  FwdIATMax                225711 non-null  float64\n 24  FwdIATMin                225711 non-null  float64\n 25  BwdIATTotal              225711 non-null  float64\n 26  BwdIATMean               225711 non-null  float64\n 27  BwdIATStd                225711 non-null  float64\n 28  BwdIATMax                225711 non-null  float64\n 29  BwdIATMin                225711 non-null  float64\n 30  FwdPSHFlags              225711 non-null  float64\n 31  BwdPSHFlags              225711 non-null  float64\n 32  FwdURGFlags              225711 non-null  float64\n 33  BwdURGFlags              225711 non-null  float64\n 34  FwdHeaderLength          225711 non-null  float64\n 35  BwdHeaderLength          225711 non-null  float64\n 36  FwdPackets/s             225711 non-null  float64\n 37  BwdPackets/s             225711 non-null  float64\n 38  MinPacketLength          225711 non-null  float64\n 39  MaxPacketLength          225711 non-null  float64\n 40  PacketLengthMean         225711 non-null  float64\n 41  PacketLengthStd          225711 non-null  float64\n 42  PacketLengthVariance     225711 non-null  float64\n 43  FINFlagCount             225711 non-null  float64\n 44  SYNFlagCount             225711 non-null  float64\n 45  RSTFlagCount             225711 non-null  float64\n 46  PSHFlagCount             225711 non-null  float64\n 47  ACKFlagCount             225711 non-null  float64\n 48  URGFlagCount             225711 non-null  float64\n 49  CWEFlagCount             225711 non-null  float64\n 50  ECEFlagCount             225711 non-null  float64\n 51  Down/UpRatio             225711 non-null  float64\n 52  AveragePacketSize        225711 non-null  float64\n 53  AvgFwdSegmentSize        225711 non-null  float64\n 54  AvgBwdSegmentSize        225711 non-null  float64\n 55  FwdHeaderLength.1        225711 non-null  float64\n 56  FwdAvgBytes/Bulk         225711 non-null  float64\n 57  FwdAvgPackets/Bulk       225711 non-null  float64\n 58  FwdAvgBulkRate           225711 non-null  float64\n 59  BwdAvgBytes/Bulk         225711 non-null  float64\n 60  BwdAvgPackets/Bulk       225711 non-null  float64\n 61  BwdAvgBulkRate           225711 non-null  float64\n 62  SubflowFwdPackets        225711 non-null  float64\n 63  SubflowFwdBytes          225711 non-null  float64\n 64  SubflowBwdPackets        225711 non-null  float64\n 65  SubflowBwdBytes          225711 non-null  float64\n 66  Init_Win_bytes_forward   225711 non-null  float64\n 67  Init_Win_bytes_backward  225711 non-null  float64\n 68  act_data_pkt_fwd         225711 non-null  float64\n 69  min_seg_size_forward     225711 non-null  float64\n 70  ActiveMean               225711 non-null  float64\n 71  ActiveStd                225711 non-null  float64\n 72  ActiveMax                225711 non-null  float64\n 73  ActiveMin                225711 non-null  float64\n 74  IdleMean                 225711 non-null  float64\n 75  IdleStd                  225711 non-null  float64\n 76  IdleMax                  225711 non-null  float64\n 77  IdleMin                  225711 non-null  float64\n 78  Label                    225711 non-null  float64\ndtypes: float64(79)\nmemory usage: 137.8 MB\n",
          "output_type": "stream"
        }
      ],
      "execution_count": 35
    },
    {
      "cell_type": "code",
      "source": "data.Label.nunique()",
      "metadata": {
        "trusted": true
      },
      "outputs": [
        {
          "execution_count": 36,
          "output_type": "execute_result",
          "data": {
            "text/plain": "2"
          },
          "metadata": {}
        }
      ],
      "execution_count": 36
    },
    {
      "cell_type": "code",
      "source": "data.Label.value_counts()",
      "metadata": {
        "trusted": true
      },
      "outputs": [
        {
          "execution_count": 37,
          "output_type": "execute_result",
          "data": {
            "text/plain": "Label\n 0.873512    128025\n-1.144804     97686\nName: count, dtype: int64"
          },
          "metadata": {}
        }
      ],
      "execution_count": 37
    },
    {
      "cell_type": "code",
      "source": "# Separate features and labels\nfeatures = data.drop('Label', axis=1)\nlabels = data['Label']",
      "metadata": {
        "trusted": true
      },
      "outputs": [],
      "execution_count": 38
    },
    {
      "cell_type": "code",
      "source": "features.replace([np.inf, -np.inf], np.nan, inplace=True)\nfeatures.dropna(inplace=True)",
      "metadata": {
        "trusted": true
      },
      "outputs": [],
      "execution_count": 39
    },
    {
      "cell_type": "code",
      "source": "features = features.select_dtypes(include=[float, int])",
      "metadata": {
        "trusted": true
      },
      "outputs": [],
      "execution_count": 40
    },
    {
      "cell_type": "code",
      "source": "len(features)",
      "metadata": {
        "trusted": true
      },
      "outputs": [
        {
          "execution_count": 41,
          "output_type": "execute_result",
          "data": {
            "text/plain": "225711"
          },
          "metadata": {}
        }
      ],
      "execution_count": 41
    },
    {
      "cell_type": "code",
      "source": "features",
      "metadata": {
        "trusted": true
      },
      "outputs": [
        {
          "execution_count": 42,
          "output_type": "execute_result",
          "data": {
            "text/plain": "        DestinationPort  FlowDuration  TotalFwdPackets  TotalBackwardPackets  \\\n0              2.328296     -0.515259        -0.186424             -0.210206   \n1              2.337865     -0.515256        -0.251258             -0.164243   \n2              2.337915     -0.515258        -0.251258             -0.164243   \n3              1.891428     -0.515258        -0.251258             -0.164243   \n4              2.328195     -0.515259        -0.186424             -0.210206   \n...                 ...           ...              ...                   ...   \n225740         2.657833     -0.515258        -0.251258             -0.164243   \n225741         2.658035     -0.515257        -0.251258             -0.164243   \n225742         2.657883     -0.515257        -0.251258             -0.164243   \n225743         2.655251     -0.515258        -0.186424             -0.210206   \n225744         2.655402     -0.515257        -0.251258             -0.164243   \n\n        TotalLengthofFwdPackets  TotalLengthofBwdPackets  FwdPacketLengthMax  \\\n0                     -0.285450                -0.151994           -0.285699   \n1                     -0.287296                -0.151841           -0.285699   \n2                     -0.287296                -0.151841           -0.285699   \n3                     -0.287296                -0.151841           -0.285699   \n4                     -0.285450                -0.151994           -0.285699   \n...                         ...                      ...                 ...   \n225740                -0.287296                -0.151841           -0.285699   \n225741                -0.287296                -0.151841           -0.285699   \n225742                -0.287296                -0.151841           -0.285699   \n225743                -0.285450                -0.151994           -0.285699   \n225744                -0.287296                -0.151841           -0.285699   \n\n        FwdPacketLengthMin  FwdPacketLengthMean  FwdPacketLengthStd  ...  \\\n0                -0.133993            -0.314602           -0.269528  ...   \n1                -0.133993            -0.314602           -0.269528  ...   \n2                -0.133993            -0.314602           -0.269528  ...   \n3                -0.133993            -0.314602           -0.269528  ...   \n4                -0.133993            -0.314602           -0.269528  ...   \n...                    ...                  ...                 ...  ...   \n225740           -0.133993            -0.314602           -0.269528  ...   \n225741           -0.133993            -0.314602           -0.269528  ...   \n225742           -0.133993            -0.314602           -0.269528  ...   \n225743           -0.133993            -0.314602           -0.269528  ...   \n225744           -0.133993            -0.314602           -0.269528  ...   \n\n        act_data_pkt_fwd  min_seg_size_forward  ActiveMean  ActiveStd  \\\n0              -0.188408             -0.355799   -0.231652  -0.061517   \n1              -0.269902             -0.355799   -0.231652  -0.061517   \n2              -0.269902             -0.355799   -0.231652  -0.061517   \n3              -0.269902             -0.355799   -0.231652  -0.061517   \n4              -0.188408             -0.355799   -0.231652  -0.061517   \n...                  ...                   ...         ...        ...   \n225740         -0.269902             -0.355799   -0.231652  -0.061517   \n225741         -0.269902             -0.355799   -0.231652  -0.061517   \n225742         -0.269902             -0.355799   -0.231652  -0.061517   \n225743         -0.188408             -0.355799   -0.231652  -0.061517   \n225744         -0.269902             -0.355799   -0.231652  -0.061517   \n\n        ActiveMax  ActiveMin  IdleMean  IdleStd   IdleMax   IdleMin  \n0       -0.231164  -0.226499 -0.472388 -0.28316 -0.478408 -0.391105  \n1       -0.231164  -0.226499 -0.472388 -0.28316 -0.478408 -0.391105  \n2       -0.231164  -0.226499 -0.472388 -0.28316 -0.478408 -0.391105  \n3       -0.231164  -0.226499 -0.472388 -0.28316 -0.478408 -0.391105  \n4       -0.231164  -0.226499 -0.472388 -0.28316 -0.478408 -0.391105  \n...           ...        ...       ...      ...       ...       ...  \n225740  -0.231164  -0.226499 -0.472388 -0.28316 -0.478408 -0.391105  \n225741  -0.231164  -0.226499 -0.472388 -0.28316 -0.478408 -0.391105  \n225742  -0.231164  -0.226499 -0.472388 -0.28316 -0.478408 -0.391105  \n225743  -0.231164  -0.226499 -0.472388 -0.28316 -0.478408 -0.391105  \n225744  -0.231164  -0.226499 -0.472388 -0.28316 -0.478408 -0.391105  \n\n[225711 rows x 78 columns]",
            "text/html": "<div>\n<style scoped>\n    .dataframe tbody tr th:only-of-type {\n        vertical-align: middle;\n    }\n\n    .dataframe tbody tr th {\n        vertical-align: top;\n    }\n\n    .dataframe thead th {\n        text-align: right;\n    }\n</style>\n<table border=\"1\" class=\"dataframe\">\n  <thead>\n    <tr style=\"text-align: right;\">\n      <th></th>\n      <th>DestinationPort</th>\n      <th>FlowDuration</th>\n      <th>TotalFwdPackets</th>\n      <th>TotalBackwardPackets</th>\n      <th>TotalLengthofFwdPackets</th>\n      <th>TotalLengthofBwdPackets</th>\n      <th>FwdPacketLengthMax</th>\n      <th>FwdPacketLengthMin</th>\n      <th>FwdPacketLengthMean</th>\n      <th>FwdPacketLengthStd</th>\n      <th>...</th>\n      <th>act_data_pkt_fwd</th>\n      <th>min_seg_size_forward</th>\n      <th>ActiveMean</th>\n      <th>ActiveStd</th>\n      <th>ActiveMax</th>\n      <th>ActiveMin</th>\n      <th>IdleMean</th>\n      <th>IdleStd</th>\n      <th>IdleMax</th>\n      <th>IdleMin</th>\n    </tr>\n  </thead>\n  <tbody>\n    <tr>\n      <th>0</th>\n      <td>2.328296</td>\n      <td>-0.515259</td>\n      <td>-0.186424</td>\n      <td>-0.210206</td>\n      <td>-0.285450</td>\n      <td>-0.151994</td>\n      <td>-0.285699</td>\n      <td>-0.133993</td>\n      <td>-0.314602</td>\n      <td>-0.269528</td>\n      <td>...</td>\n      <td>-0.188408</td>\n      <td>-0.355799</td>\n      <td>-0.231652</td>\n      <td>-0.061517</td>\n      <td>-0.231164</td>\n      <td>-0.226499</td>\n      <td>-0.472388</td>\n      <td>-0.28316</td>\n      <td>-0.478408</td>\n      <td>-0.391105</td>\n    </tr>\n    <tr>\n      <th>1</th>\n      <td>2.337865</td>\n      <td>-0.515256</td>\n      <td>-0.251258</td>\n      <td>-0.164243</td>\n      <td>-0.287296</td>\n      <td>-0.151841</td>\n      <td>-0.285699</td>\n      <td>-0.133993</td>\n      <td>-0.314602</td>\n      <td>-0.269528</td>\n      <td>...</td>\n      <td>-0.269902</td>\n      <td>-0.355799</td>\n      <td>-0.231652</td>\n      <td>-0.061517</td>\n      <td>-0.231164</td>\n      <td>-0.226499</td>\n      <td>-0.472388</td>\n      <td>-0.28316</td>\n      <td>-0.478408</td>\n      <td>-0.391105</td>\n    </tr>\n    <tr>\n      <th>2</th>\n      <td>2.337915</td>\n      <td>-0.515258</td>\n      <td>-0.251258</td>\n      <td>-0.164243</td>\n      <td>-0.287296</td>\n      <td>-0.151841</td>\n      <td>-0.285699</td>\n      <td>-0.133993</td>\n      <td>-0.314602</td>\n      <td>-0.269528</td>\n      <td>...</td>\n      <td>-0.269902</td>\n      <td>-0.355799</td>\n      <td>-0.231652</td>\n      <td>-0.061517</td>\n      <td>-0.231164</td>\n      <td>-0.226499</td>\n      <td>-0.472388</td>\n      <td>-0.28316</td>\n      <td>-0.478408</td>\n      <td>-0.391105</td>\n    </tr>\n    <tr>\n      <th>3</th>\n      <td>1.891428</td>\n      <td>-0.515258</td>\n      <td>-0.251258</td>\n      <td>-0.164243</td>\n      <td>-0.287296</td>\n      <td>-0.151841</td>\n      <td>-0.285699</td>\n      <td>-0.133993</td>\n      <td>-0.314602</td>\n      <td>-0.269528</td>\n      <td>...</td>\n      <td>-0.269902</td>\n      <td>-0.355799</td>\n      <td>-0.231652</td>\n      <td>-0.061517</td>\n      <td>-0.231164</td>\n      <td>-0.226499</td>\n      <td>-0.472388</td>\n      <td>-0.28316</td>\n      <td>-0.478408</td>\n      <td>-0.391105</td>\n    </tr>\n    <tr>\n      <th>4</th>\n      <td>2.328195</td>\n      <td>-0.515259</td>\n      <td>-0.186424</td>\n      <td>-0.210206</td>\n      <td>-0.285450</td>\n      <td>-0.151994</td>\n      <td>-0.285699</td>\n      <td>-0.133993</td>\n      <td>-0.314602</td>\n      <td>-0.269528</td>\n      <td>...</td>\n      <td>-0.188408</td>\n      <td>-0.355799</td>\n      <td>-0.231652</td>\n      <td>-0.061517</td>\n      <td>-0.231164</td>\n      <td>-0.226499</td>\n      <td>-0.472388</td>\n      <td>-0.28316</td>\n      <td>-0.478408</td>\n      <td>-0.391105</td>\n    </tr>\n    <tr>\n      <th>...</th>\n      <td>...</td>\n      <td>...</td>\n      <td>...</td>\n      <td>...</td>\n      <td>...</td>\n      <td>...</td>\n      <td>...</td>\n      <td>...</td>\n      <td>...</td>\n      <td>...</td>\n      <td>...</td>\n      <td>...</td>\n      <td>...</td>\n      <td>...</td>\n      <td>...</td>\n      <td>...</td>\n      <td>...</td>\n      <td>...</td>\n      <td>...</td>\n      <td>...</td>\n      <td>...</td>\n    </tr>\n    <tr>\n      <th>225740</th>\n      <td>2.657833</td>\n      <td>-0.515258</td>\n      <td>-0.251258</td>\n      <td>-0.164243</td>\n      <td>-0.287296</td>\n      <td>-0.151841</td>\n      <td>-0.285699</td>\n      <td>-0.133993</td>\n      <td>-0.314602</td>\n      <td>-0.269528</td>\n      <td>...</td>\n      <td>-0.269902</td>\n      <td>-0.355799</td>\n      <td>-0.231652</td>\n      <td>-0.061517</td>\n      <td>-0.231164</td>\n      <td>-0.226499</td>\n      <td>-0.472388</td>\n      <td>-0.28316</td>\n      <td>-0.478408</td>\n      <td>-0.391105</td>\n    </tr>\n    <tr>\n      <th>225741</th>\n      <td>2.658035</td>\n      <td>-0.515257</td>\n      <td>-0.251258</td>\n      <td>-0.164243</td>\n      <td>-0.287296</td>\n      <td>-0.151841</td>\n      <td>-0.285699</td>\n      <td>-0.133993</td>\n      <td>-0.314602</td>\n      <td>-0.269528</td>\n      <td>...</td>\n      <td>-0.269902</td>\n      <td>-0.355799</td>\n      <td>-0.231652</td>\n      <td>-0.061517</td>\n      <td>-0.231164</td>\n      <td>-0.226499</td>\n      <td>-0.472388</td>\n      <td>-0.28316</td>\n      <td>-0.478408</td>\n      <td>-0.391105</td>\n    </tr>\n    <tr>\n      <th>225742</th>\n      <td>2.657883</td>\n      <td>-0.515257</td>\n      <td>-0.251258</td>\n      <td>-0.164243</td>\n      <td>-0.287296</td>\n      <td>-0.151841</td>\n      <td>-0.285699</td>\n      <td>-0.133993</td>\n      <td>-0.314602</td>\n      <td>-0.269528</td>\n      <td>...</td>\n      <td>-0.269902</td>\n      <td>-0.355799</td>\n      <td>-0.231652</td>\n      <td>-0.061517</td>\n      <td>-0.231164</td>\n      <td>-0.226499</td>\n      <td>-0.472388</td>\n      <td>-0.28316</td>\n      <td>-0.478408</td>\n      <td>-0.391105</td>\n    </tr>\n    <tr>\n      <th>225743</th>\n      <td>2.655251</td>\n      <td>-0.515258</td>\n      <td>-0.186424</td>\n      <td>-0.210206</td>\n      <td>-0.285450</td>\n      <td>-0.151994</td>\n      <td>-0.285699</td>\n      <td>-0.133993</td>\n      <td>-0.314602</td>\n      <td>-0.269528</td>\n      <td>...</td>\n      <td>-0.188408</td>\n      <td>-0.355799</td>\n      <td>-0.231652</td>\n      <td>-0.061517</td>\n      <td>-0.231164</td>\n      <td>-0.226499</td>\n      <td>-0.472388</td>\n      <td>-0.28316</td>\n      <td>-0.478408</td>\n      <td>-0.391105</td>\n    </tr>\n    <tr>\n      <th>225744</th>\n      <td>2.655402</td>\n      <td>-0.515257</td>\n      <td>-0.251258</td>\n      <td>-0.164243</td>\n      <td>-0.287296</td>\n      <td>-0.151841</td>\n      <td>-0.285699</td>\n      <td>-0.133993</td>\n      <td>-0.314602</td>\n      <td>-0.269528</td>\n      <td>...</td>\n      <td>-0.269902</td>\n      <td>-0.355799</td>\n      <td>-0.231652</td>\n      <td>-0.061517</td>\n      <td>-0.231164</td>\n      <td>-0.226499</td>\n      <td>-0.472388</td>\n      <td>-0.28316</td>\n      <td>-0.478408</td>\n      <td>-0.391105</td>\n    </tr>\n  </tbody>\n</table>\n<p>225711 rows × 78 columns</p>\n</div>"
          },
          "metadata": {}
        }
      ],
      "execution_count": 42
    },
    {
      "cell_type": "code",
      "source": "scaler = StandardScaler()\nfeatures_scaled = scaler.fit_transform(features)",
      "metadata": {
        "trusted": true
      },
      "outputs": [],
      "execution_count": 43
    },
    {
      "cell_type": "code",
      "source": "from sklearn.preprocessing import LabelEncoder\n\nlabel_encoder = LabelEncoder()\ny_encoded = label_encoder.fit_transform(labels)",
      "metadata": {
        "trusted": true
      },
      "outputs": [],
      "execution_count": 44
    },
    {
      "cell_type": "code",
      "source": "round(data.shape[0]*80/100)",
      "metadata": {
        "trusted": true
      },
      "outputs": [
        {
          "execution_count": 45,
          "output_type": "execute_result",
          "data": {
            "text/plain": "180569"
          },
          "metadata": {}
        }
      ],
      "execution_count": 45
    },
    {
      "cell_type": "code",
      "source": "missing_labels = np.isnan(y_encoded).sum()\nprint(f\"Number of missing values in y_encoded: {missing_labels}\")",
      "metadata": {
        "trusted": true
      },
      "outputs": [
        {
          "name": "stdout",
          "text": "Number of missing values in y_encoded: 0\n",
          "output_type": "stream"
        }
      ],
      "execution_count": 46
    },
    {
      "cell_type": "code",
      "source": "train_size = round(len(y_encoded) * 0.8)\n\nX_train = features_scaled[:train_size]\nX_test = features_scaled[train_size:]\ny_train = y_encoded[:train_size]\ny_test = y_encoded[train_size:]\n\nprint(f\"Length of X_train: {len(X_train)}\")\nprint(f\"Length of y_train: {len(y_train)}\")\nprint(f\"Length of X_test: {len(X_test)}\")\nprint(f\"Length of y_test: {len(y_test)}\")\n\nmin_len = min(len(X_test), len(y_test))\nX_test = X_test[:min_len]\ny_test = y_test[:min_len]\n\nprint(f\"Final Length of X_test: {len(X_test)}\")\nprint(f\"Final Length of y_test: {len(y_test)}\")",
      "metadata": {
        "trusted": true
      },
      "outputs": [
        {
          "name": "stdout",
          "text": "Length of X_train: 180569\nLength of y_train: 180569\nLength of X_test: 45142\nLength of y_test: 45142\nFinal Length of X_test: 45142\nFinal Length of y_test: 45142\n",
          "output_type": "stream"
        }
      ],
      "execution_count": 47
    },
    {
      "cell_type": "code",
      "source": "from sklearn.svm import OneClassSVM\nfrom sklearn.metrics import classification_report\n\nocsvm = OneClassSVM(kernel='rbf', nu=0.01, gamma='auto')\nocsvm.fit(X_train)\n\ny_pred = ocsvm.predict(X_test)\n\n\n\nprint(\"Number of anomalies detected:\", (y_pred == -1).sum())",
      "metadata": {
        "trusted": true
      },
      "outputs": [
        {
          "name": "stdout",
          "text": "Number of anomalies detected: 1477\n",
          "output_type": "stream"
        }
      ],
      "execution_count": 48
    },
    {
      "cell_type": "code",
      "source": "from sklearn.metrics import accuracy_score\n\n# Convert One-Class SVM predictions to 0 and 1: -1 for outliers and 1 for inliers\nsvm_predict = np.where(y_pred == -1, 1, 0)\n\n# Convert true labels to 0 and 1 as well\ny_test_mapped = np.where(y_test == 'Bot', 1, 0)\n\naccuracy = accuracy_score(y_test_mapped, svm_predict)\nprint(\"Accuracy in separating Outliers:\", accuracy)",
      "metadata": {
        "trusted": true
      },
      "outputs": [
        {
          "name": "stdout",
          "text": "Accuracy in separating Outliers: 0.9672810243232467\n",
          "output_type": "stream"
        }
      ],
      "execution_count": 49
    },
    {
      "cell_type": "code",
      "source": "from sklearn.ensemble import IsolationForest\nfrom sklearn.metrics import accuracy_score, classification_report\nimport numpy as np\n\niso_forest = IsolationForest(n_estimators=100, contamination=0.01, random_state=42)\niso_forest.fit(X_train)\n\ny_pred = iso_forest.predict(X_test)\n\nprint(\"Number of anomalies detected:\", (y_pred == -1).sum())\n\niso_forest_predict = np.where(y_pred == -1, 1, 0)\n\naccuracy = accuracy_score(y_test, iso_forest_predict)\nprint(\"Accuracy in separating Outliers:\", accuracy)\n\nunique_values, counts = np.unique(y_pred, return_counts=True)\n\nfor value, count in zip(unique_values, counts):\n    print(f'Value: {value}, Count: {count}')",
      "metadata": {
        "trusted": true
      },
      "outputs": [
        {
          "name": "stdout",
          "text": "Number of anomalies detected: 712\nAccuracy in separating Outliers: 0.732466439236188\nValue: -1, Count: 712\nValue: 1, Count: 44430\n",
          "output_type": "stream"
        }
      ],
      "execution_count": 50
    },
    {
      "cell_type": "code",
      "source": "",
      "metadata": {
        "trusted": true
      },
      "outputs": [],
      "execution_count": null
    }
  ]
}